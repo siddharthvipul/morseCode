{
 "cells": [
  {
   "cell_type": "code",
   "execution_count": 92,
   "metadata": {},
   "outputs": [],
   "source": [
    "import pandas as pd\n",
    "import re\n",
    "from textblob import TextBlob\n",
    "import cxcsv as con\n",
    "import matplotlib.pyplot as plt"
   ]
  },
  {
   "cell_type": "code",
   "execution_count": 93,
   "metadata": {
    "collapsed": true
   },
   "outputs": [],
   "source": [
    "%matplotlib inline"
   ]
  },
  {
   "cell_type": "code",
   "execution_count": 94,
   "metadata": {
    "collapsed": true
   },
   "outputs": [],
   "source": [
    "con.converter('feedback.xlsx','Form Responses 1', 'feedback1.csv')"
   ]
  },
  {
   "cell_type": "code",
   "execution_count": 95,
   "metadata": {},
   "outputs": [
    {
     "name": "stdout",
     "output_type": "stream",
     "text": [
      "analysis1.csv  Demo.ipynb     Feedback_analysis.ipynb  \u001b[0m\u001b[38;5;33m__pycache__\u001b[0m/\r\n",
      "cxcsv.py       feedback1.csv  feedback.xlsx\r\n"
     ]
    }
   ],
   "source": [
    "ls"
   ]
  },
  {
   "cell_type": "code",
   "execution_count": 96,
   "metadata": {
    "collapsed": true
   },
   "outputs": [],
   "source": [
    "df = pd.read_csv('feedback1.csv')"
   ]
  },
  {
   "cell_type": "code",
   "execution_count": 97,
   "metadata": {},
   "outputs": [
    {
     "data": {
      "text/plain": [
       "Text(0.5,0,'number of people')"
      ]
     },
     "execution_count": 97,
     "metadata": {},
     "output_type": "execute_result"
    },
    {
     "data": {
      "image/png": "[encoded data removed]",
      "text/plain": [
       "<matplotlib.figure.Figure at 0x7f0fb1fdec88>"
      ]
     },
     "metadata": {},
     "output_type": "display_data"
    }
   ],
   "source": [
    "plt.plot(df['How much did you like the Event?'])\n",
    "#plt.scatter(df['How much did you like the Event?'])\n",
    "plt.title('Graph')\n",
    "plt.ylim(0,10)\n",
    "plt.ylabel('score')\n",
    "plt.xlabel('number of people')"
   ]
  },
  {
   "cell_type": "code",
   "execution_count": 98,
   "metadata": {},
   "outputs": [],
   "source": [
    "df=df.fillna(value='0')"
   ]
  },
  {
   "cell_type": "code",
   "execution_count": 99,
   "metadata": {},
   "outputs": [],
   "source": [
    "df = df[df['Anything else you want to say about him?']!='0']"
   ]
  },
  {
   "cell_type": "code",
   "execution_count": 100,
   "metadata": {},
   "outputs": [
    {
     "data": {
      "text/html": [
       "<div>\n",
       "<style>\n",
       "    .dataframe thead tr:only-child th {\n",
       "        text-align: right;\n",
       "    }\n",
       "\n",
       "    .dataframe thead th {\n",
       "        text-align: left;\n",
       "    }\n",
       "\n",
       "    .dataframe tbody tr th {\n",
       "        vertical-align: top;\n",
       "    }\n",
       "</style>\n",
       "<table border=\"1\" class=\"dataframe\">\n",
       "  <thead>\n",
       "    <tr style=\"text-align: right;\">\n",
       "      <th></th>\n",
       "      <th>Timestamp</th>\n",
       "      <th>Email Address</th>\n",
       "      <th>Name</th>\n",
       "      <th>Register Number</th>\n",
       "      <th>Phone number</th>\n",
       "      <th>How much did you like the Event?</th>\n",
       "      <th>What did you like in the event?</th>\n",
       "      <th>What can be improved in the future?</th>\n",
       "      <th>Understanding of Topic</th>\n",
       "      <th>Clarity of Voice</th>\n",
       "      <th>Mode of Teaching</th>\n",
       "      <th>Overall</th>\n",
       "      <th>Anything else you want to say about him?</th>\n",
       "    </tr>\n",
       "  </thead>\n",
       "  <tbody>\n",
       "    <tr>\n",
       "      <th>6</th>\n",
       "      <td>43062.7</td>\n",
       "      <td>anish.mahajan1@gmail.com</td>\n",
       "      <td>anish mahajan</td>\n",
       "      <td>1.72011e+06</td>\n",
       "      <td>8.05444e+09</td>\n",
       "      <td>10</td>\n",
       "      <td>Explaining way</td>\n",
       "      <td>Update slides regularly</td>\n",
       "      <td>10</td>\n",
       "      <td>10</td>\n",
       "      <td>10</td>\n",
       "      <td>10</td>\n",
       "      <td>No</td>\n",
       "    </tr>\n",
       "    <tr>\n",
       "      <th>12</th>\n",
       "      <td>43062.7</td>\n",
       "      <td>gautamm2407999@gmail.com</td>\n",
       "      <td>Gautam Malhotra</td>\n",
       "      <td>1.74026e+06</td>\n",
       "      <td>8.44795e+09</td>\n",
       "      <td>9</td>\n",
       "      <td>Very professional and engaging</td>\n",
       "      <td>A larger time period for the event</td>\n",
       "      <td>9</td>\n",
       "      <td>9</td>\n",
       "      <td>10</td>\n",
       "      <td>9</td>\n",
       "      <td>He seems to know what he's talking about</td>\n",
       "    </tr>\n",
       "    <tr>\n",
       "      <th>15</th>\n",
       "      <td>43062.7</td>\n",
       "      <td>01vksingh@gmail.com</td>\n",
       "      <td>Vishal kumar singh</td>\n",
       "      <td>1.74116e+06</td>\n",
       "      <td>9.53861e+09</td>\n",
       "      <td>8</td>\n",
       "      <td>I got to know much thibgs</td>\n",
       "      <td>0</td>\n",
       "      <td>8</td>\n",
       "      <td>8</td>\n",
       "      <td>8</td>\n",
       "      <td>9</td>\n",
       "      <td>He is awosome</td>\n",
       "    </tr>\n",
       "    <tr>\n",
       "      <th>27</th>\n",
       "      <td>43062.7</td>\n",
       "      <td>avi.chanodia@science.christuniversity.in</td>\n",
       "      <td>Avi Chanodia</td>\n",
       "      <td>1.64112e+06</td>\n",
       "      <td>7.00007e+09</td>\n",
       "      <td>10</td>\n",
       "      <td>The speaker was very informative and had a gre...</td>\n",
       "      <td>Seating capacity</td>\n",
       "      <td>10</td>\n",
       "      <td>10</td>\n",
       "      <td>10</td>\n",
       "      <td>10</td>\n",
       "      <td>Very resource full</td>\n",
       "    </tr>\n",
       "    <tr>\n",
       "      <th>42</th>\n",
       "      <td>43062.7</td>\n",
       "      <td>sanjith.kattingeri@science.christuniversity.in</td>\n",
       "      <td>Sanjith Hebbar</td>\n",
       "      <td>1.54106e+06</td>\n",
       "      <td>9.94505e+09</td>\n",
       "      <td>10</td>\n",
       "      <td>Exposure to Cryptocurrencies. Merits, Demerits...</td>\n",
       "      <td>0</td>\n",
       "      <td>10</td>\n",
       "      <td>10</td>\n",
       "      <td>10</td>\n",
       "      <td>10</td>\n",
       "      <td>Excellent knowledge on the subject.</td>\n",
       "    </tr>\n",
       "  </tbody>\n",
       "</table>\n",
       "</div>"
      ],
      "text/plain": [
       "   Timestamp                                   Email Address  \\\n",
       "6    43062.7                        anish.mahajan1@gmail.com   \n",
       "12   43062.7                        gautamm2407999@gmail.com   \n",
       "15   43062.7                             01vksingh@gmail.com   \n",
       "27   43062.7        avi.chanodia@science.christuniversity.in   \n",
       "42   43062.7  sanjith.kattingeri@science.christuniversity.in   \n",
       "\n",
       "                  Name Register Number Phone number  \\\n",
       "6       anish mahajan      1.72011e+06  8.05444e+09   \n",
       "12     Gautam Malhotra     1.74026e+06  8.44795e+09   \n",
       "15  Vishal kumar singh     1.74116e+06  9.53861e+09   \n",
       "27       Avi Chanodia      1.64112e+06  7.00007e+09   \n",
       "42      Sanjith Hebbar     1.54106e+06  9.94505e+09   \n",
       "\n",
       "   How much did you like the Event?  \\\n",
       "6                                10   \n",
       "12                                9   \n",
       "15                                8   \n",
       "27                               10   \n",
       "42                               10   \n",
       "\n",
       "                      What did you like in the event?  \\\n",
       "6                                      Explaining way   \n",
       "12                     Very professional and engaging   \n",
       "15                          I got to know much thibgs   \n",
       "27  The speaker was very informative and had a gre...   \n",
       "42  Exposure to Cryptocurrencies. Merits, Demerits...   \n",
       "\n",
       "    What can be improved in the future? Understanding of Topic  \\\n",
       "6              Update slides regularly                      10   \n",
       "12  A larger time period for the event                       9   \n",
       "15                                    0                      8   \n",
       "27                     Seating capacity                     10   \n",
       "42                                    0                     10   \n",
       "\n",
       "   Clarity of Voice  Mode of Teaching Overall  \\\n",
       "6                 10               10      10   \n",
       "12                 9               10       9   \n",
       "15                 8                8       9   \n",
       "27                10               10      10   \n",
       "42                10               10      10   \n",
       "\n",
       "    Anything else you want to say about him?  \n",
       "6                                         No  \n",
       "12  He seems to know what he's talking about  \n",
       "15                             He is awosome  \n",
       "27                       Very resource full   \n",
       "42       Excellent knowledge on the subject.  "
      ]
     },
     "execution_count": 100,
     "metadata": {},
     "output_type": "execute_result"
    }
   ],
   "source": [
    "df.head()"
   ]
  },
  {
   "cell_type": "code",
   "execution_count": 101,
   "metadata": {
    "collapsed": true
   },
   "outputs": [],
   "source": [
    "fordf = []\n",
    "eachvalue = {}"
   ]
  },
  {
   "cell_type": "markdown",
   "metadata": {},
   "source": [
    " if(analysis.sentiment.polarity < 0.0):\n",
    "        polarity = 'Negative'\n",
    "    elif(0.0<=analysis.sentiment.polarity <=0.2):\n",
    "        polarity = 'Neutral'\n",
    "    else:\n",
    "        polarity = 'Positive'"
   ]
  },
  {
   "cell_type": "code",
   "execution_count": 105,
   "metadata": {},
   "outputs": [
    {
     "name": "stdout",
     "output_type": "stream",
     "text": [
      "No\n",
      "He seems to know what he's talking about\n",
      "He is awosome\n",
      "Very resource full \n",
      "Excellent knowledge on the subject.\n",
      "Thank you!\n",
      "Cool guy\n",
      "He is charismatic.\n",
      "Excellent oration, information and wit\n",
      "[{'comment': 'Excellent oration, information and wit', 'Sentiment': 'Positive', 'value': 1.0}, {'comment': 'Excellent oration, information and wit', 'Sentiment': 'Positive', 'value': 1.0}, {'comment': 'Excellent oration, information and wit', 'Sentiment': 'Positive', 'value': 1.0}, {'comment': 'Excellent oration, information and wit', 'Sentiment': 'Positive', 'value': 1.0}, {'comment': 'Excellent oration, information and wit', 'Sentiment': 'Positive', 'value': 1.0}, {'comment': 'Excellent oration, information and wit', 'Sentiment': 'Positive', 'value': 1.0}, {'comment': 'Excellent oration, information and wit', 'Sentiment': 'Positive', 'value': 1.0}, {'comment': 'Excellent oration, information and wit', 'Sentiment': 'Positive', 'value': 1.0}, {'comment': 'Excellent oration, information and wit', 'Sentiment': 'Positive', 'value': 1.0}, {'comment': 'Excellent oration, information and wit', 'Sentiment': 'Positive', 'value': 1.0}, {'comment': 'Excellent oration, information and wit', 'Sentiment': 'Positive', 'value': 1.0}, {'comment': 'Excellent oration, information and wit', 'Sentiment': 'Positive', 'value': 1.0}, {'comment': 'Excellent oration, information and wit', 'Sentiment': 'Positive', 'value': 1.0}, {'comment': 'Excellent oration, information and wit', 'Sentiment': 'Positive', 'value': 1.0}, {'comment': 'Excellent oration, information and wit', 'Sentiment': 'Positive', 'value': 1.0}, {'comment': 'Excellent oration, information and wit', 'Sentiment': 'Positive', 'value': 1.0}, {'comment': 'Excellent oration, information and wit', 'Sentiment': 'Positive', 'value': 1.0}, {'comment': 'Excellent oration, information and wit', 'Sentiment': 'Positive', 'value': 1.0}, {'comment': 'Excellent oration, information and wit', 'Sentiment': 'Positive', 'value': 1.0}, {'comment': 'Excellent oration, information and wit', 'Sentiment': 'Positive', 'value': 1.0}, {'comment': 'Excellent oration, information and wit', 'Sentiment': 'Positive', 'value': 1.0}, {'comment': 'Excellent oration, information and wit', 'Sentiment': 'Positive', 'value': 1.0}, {'comment': 'Excellent oration, information and wit', 'Sentiment': 'Positive', 'value': 1.0}, {'comment': 'Excellent oration, information and wit', 'Sentiment': 'Positive', 'value': 1.0}, {'comment': 'Excellent oration, information and wit', 'Sentiment': 'Positive', 'value': 1.0}, {'comment': 'Excellent oration, information and wit', 'Sentiment': 'Positive', 'value': 1.0}, {'comment': 'Excellent oration, information and wit', 'Sentiment': 'Positive', 'value': 1.0}]\n"
     ]
    }
   ],
   "source": [
    "for i in df['Anything else you want to say about him?']:\n",
    "    print(i)\n",
    "    analysis= TextBlob(i)\n",
    "    eachvalue['comment']=i\n",
    "    eachvalue['value']=analysis.sentiment.polarity\n",
    "    \n",
    "print(fordf)"
   ]
  },
  {
   "cell_type": "code",
   "execution_count": 103,
   "metadata": {},
   "outputs": [
    {
     "data": {
      "text/html": [
       "<div>\n",
       "<style>\n",
       "    .dataframe thead tr:only-child th {\n",
       "        text-align: right;\n",
       "    }\n",
       "\n",
       "    .dataframe thead th {\n",
       "        text-align: left;\n",
       "    }\n",
       "\n",
       "    .dataframe tbody tr th {\n",
       "        vertical-align: top;\n",
       "    }\n",
       "</style>\n",
       "<table border=\"1\" class=\"dataframe\">\n",
       "  <thead>\n",
       "    <tr style=\"text-align: right;\">\n",
       "      <th></th>\n",
       "      <th>Sentiment</th>\n",
       "      <th>comment</th>\n",
       "    </tr>\n",
       "  </thead>\n",
       "  <tbody>\n",
       "    <tr>\n",
       "      <th>0</th>\n",
       "      <td>Positive</td>\n",
       "      <td>Excellent oration, information and wit</td>\n",
       "    </tr>\n",
       "    <tr>\n",
       "      <th>1</th>\n",
       "      <td>Positive</td>\n",
       "      <td>Excellent oration, information and wit</td>\n",
       "    </tr>\n",
       "    <tr>\n",
       "      <th>2</th>\n",
       "      <td>Positive</td>\n",
       "      <td>Excellent oration, information and wit</td>\n",
       "    </tr>\n",
       "    <tr>\n",
       "      <th>3</th>\n",
       "      <td>Positive</td>\n",
       "      <td>Excellent oration, information and wit</td>\n",
       "    </tr>\n",
       "    <tr>\n",
       "      <th>4</th>\n",
       "      <td>Positive</td>\n",
       "      <td>Excellent oration, information and wit</td>\n",
       "    </tr>\n",
       "    <tr>\n",
       "      <th>5</th>\n",
       "      <td>Positive</td>\n",
       "      <td>Excellent oration, information and wit</td>\n",
       "    </tr>\n",
       "    <tr>\n",
       "      <th>6</th>\n",
       "      <td>Positive</td>\n",
       "      <td>Excellent oration, information and wit</td>\n",
       "    </tr>\n",
       "    <tr>\n",
       "      <th>7</th>\n",
       "      <td>Positive</td>\n",
       "      <td>Excellent oration, information and wit</td>\n",
       "    </tr>\n",
       "    <tr>\n",
       "      <th>8</th>\n",
       "      <td>Positive</td>\n",
       "      <td>Excellent oration, information and wit</td>\n",
       "    </tr>\n",
       "  </tbody>\n",
       "</table>\n",
       "</div>"
      ],
      "text/plain": [
       "  Sentiment                                 comment\n",
       "0  Positive  Excellent oration, information and wit\n",
       "1  Positive  Excellent oration, information and wit\n",
       "2  Positive  Excellent oration, information and wit\n",
       "3  Positive  Excellent oration, information and wit\n",
       "4  Positive  Excellent oration, information and wit\n",
       "5  Positive  Excellent oration, information and wit\n",
       "6  Positive  Excellent oration, information and wit\n",
       "7  Positive  Excellent oration, information and wit\n",
       "8  Positive  Excellent oration, information and wit"
      ]
     },
     "execution_count": 103,
     "metadata": {},
     "output_type": "execute_result"
    }
   ],
   "source": [
    "pd.DataFrame(fordf)"
   ]
  },
  {
   "cell_type": "code",
   "execution_count": null,
   "metadata": {
    "collapsed": true
   },
   "outputs": [],
   "source": []
  },
  {
   "cell_type": "code",
   "execution_count": null,
   "metadata": {
    "collapsed": true
   },
   "outputs": [],
   "source": []
  }
 ],
 "metadata": {
  "kernelspec": {
   "display_name": "Python 3",
   "language": "python",
   "name": "python3"
  },
  "language_info": {
   "codemirror_mode": {
    "name": "ipython",
    "version": 3
   },
   "file_extension": ".py",
   "mimetype": "text/x-python",
   "name": "python",
   "nbconvert_exporter": "python",
   "pygments_lexer": "ipython3",
   "version": "3.6.3"
  }
 },
 "nbformat": 4,
 "nbformat_minor": 2
}
