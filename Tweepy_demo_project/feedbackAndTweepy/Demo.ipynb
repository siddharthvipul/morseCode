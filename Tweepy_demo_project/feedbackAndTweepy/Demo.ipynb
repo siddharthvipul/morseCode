{
 "cells": [
  {
   "cell_type": "markdown",
   "metadata": {},
   "source": [
    "# Project demo\n",
    "#### We are not using tensorflow here. For demo sake, textblob's analysis.sentiment is doing all the analysis work."
   ]
  },
  {
   "cell_type": "markdown",
   "metadata": {},
   "source": [
    "Step 1: Let's import the libraries"
   ]
  },
  {
   "cell_type": "code",
   "execution_count": 107,
   "metadata": {
    "collapsed": true
   },
   "outputs": [],
   "source": [
    "import tweepy\n",
    "from textblob import TextBlob\n",
    "#import csv\n",
    "#import sys\n",
    "import pandas as pd\n",
    "import matplotlib.pyplot as plt\n",
    "#import re"
   ]
  },
  {
   "cell_type": "code",
   "execution_count": 108,
   "metadata": {},
   "outputs": [],
   "source": [
    "%matplotlib inline"
   ]
  },
  {
   "cell_type": "markdown",
   "metadata": {},
   "source": [
    "Step 2: use twitter api to authenticate yourself using [consumer key, consumer secret key, access token key, access token secret key]. "
   ]
  },
  {
   "cell_type": "code",
   "execution_count": 109,
   "metadata": {
    "collapsed": true
   },
   "outputs": [],
   "source": [
    "consumer_key='BCu9wO91x5DTl31JJmJlKI72R'\n",
    "consumer_secret='a8OPBWL4AdqLJzSw7znvbf5CLtGYpk8y8wOLI445d0HiZZ1A8e'\n",
    "\n",
    "access_token_key='2192450400-IjS9RylezjKmnVWJzJnhK5BHLhPNwvEYU5j76OM'\n",
    "access_token_secret='gYSdcseX6PPjXStBWFmhLHwY994MCMvNK6pz2x70hdvaf'\n",
    "\n",
    "auth=tweepy.OAuthHandler(consumer_key,consumer_secret)\n",
    "auth.set_access_token(access_token_key,access_token_secret)\n",
    "\n",
    "api=tweepy.API(auth)"
   ]
  },
  {
   "cell_type": "code",
   "execution_count": 110,
   "metadata": {
    "collapsed": true
   },
   "outputs": [],
   "source": [
    "topicname='laden'\n",
    "pubic_tweets=api.search(topicname)\n",
    "#print (pubic_tweets)\n",
    "#unwanted_words=['@','RT',':','https','http']\n",
    "#symbols=['@','#']\n",
    "data=[]"
   ]
  },
  {
   "cell_type": "code",
   "execution_count": 111,
   "metadata": {},
   "outputs": [
    {
     "name": "stdout",
     "output_type": "stream",
     "text": [
      "Sentiment(polarity=0.25, subjectivity=0.4444444444444444)\n",
      "Sentiment(polarity=-0.14166666666666666, subjectivity=0.325)\n",
      "Sentiment(polarity=0.2857142857142857, subjectivity=0.5357142857142857)\n",
      "Sentiment(polarity=0.0, subjectivity=0.0)\n",
      "Sentiment(polarity=0.3333333333333333, subjectivity=0.3333333333333333)\n",
      "Sentiment(polarity=0.0, subjectivity=0.0)\n",
      "Sentiment(polarity=0.0, subjectivity=0.0)\n",
      "Sentiment(polarity=0.0, subjectivity=0.0)\n",
      "Sentiment(polarity=-0.12000000000000002, subjectivity=0.32)\n",
      "Sentiment(polarity=0.0, subjectivity=0.0)\n",
      "Sentiment(polarity=0.0, subjectivity=0.0)\n",
      "Sentiment(polarity=0.0, subjectivity=0.0)\n",
      "Sentiment(polarity=0.0, subjectivity=0.0)\n",
      "Sentiment(polarity=0.0, subjectivity=0.0)\n",
      "Sentiment(polarity=0.0, subjectivity=0.0)\n"
     ]
    }
   ],
   "source": [
    "for tweet in pubic_tweets:\n",
    "    text=tweet.text\n",
    "    textWords=text.split()\n",
    "   # print (textWords)\n",
    "   # print ('\\n\\n')\n",
    "    cleanedTweet=' '.join(re.sub(\"(@[A-Za-z0-9]+)|([^0-9A-Za-z \\t])|(\\w+:\\/\\/\\S+)|(rt)\", \" \", text).split())\n",
    "    #print (cleanedTweet)\n",
    "    #print (TextBlob(cleanedTweet).tags)\n",
    "    analysis= TextBlob(cleanedTweet)\n",
    "    print (analysis.sentiment)\n",
    "    polarity = 'Positive'\n",
    "    if(analysis.sentiment.polarity < 0.0 or analysis.sentiment.subjectivity < 0.0):\n",
    "        polarity = 'Negative'\n",
    "    if(0.0<=analysis.sentiment.polarity <=0.2):\n",
    "        polarity = 'Neutral'\n",
    "    #print (polarity)\n",
    "    dic={}\n",
    "    dic['Sentiment']=polarity\n",
    "    dic['Tweet']=cleanedTweet\n",
    "    dic['visual']=analysis.sentiment.polarity\n",
    "    data.append(dic)"
   ]
  },
  {
   "cell_type": "code",
   "execution_count": 112,
   "metadata": {},
   "outputs": [
    {
     "data": {
      "text/html": [
       "<div>\n",
       "<style>\n",
       "    .dataframe thead tr:only-child th {\n",
       "        text-align: right;\n",
       "    }\n",
       "\n",
       "    .dataframe thead th {\n",
       "        text-align: left;\n",
       "    }\n",
       "\n",
       "    .dataframe tbody tr th {\n",
       "        vertical-align: top;\n",
       "    }\n",
       "</style>\n",
       "<table border=\"1\" class=\"dataframe\">\n",
       "  <thead>\n",
       "    <tr style=\"text-align: right;\">\n",
       "      <th></th>\n",
       "      <th>Sentiment</th>\n",
       "      <th>Tweet</th>\n",
       "      <th>visual</th>\n",
       "    </tr>\n",
       "  </thead>\n",
       "  <tbody>\n",
       "    <tr>\n",
       "      <th>0</th>\n",
       "      <td>Positive</td>\n",
       "      <td>Sure Like the Russian hacking proof like proof...</td>\n",
       "      <td>0.250000</td>\n",
       "    </tr>\n",
       "    <tr>\n",
       "      <th>1</th>\n",
       "      <td>Negative</td>\n",
       "      <td>RT Common PMS symptoms that can occur a week b...</td>\n",
       "      <td>-0.141667</td>\n",
       "    </tr>\n",
       "    <tr>\n",
       "      <th>2</th>\n",
       "      <td>Positive</td>\n",
       "      <td>RT Where was Bin Laden hiding out again Oh tha...</td>\n",
       "      <td>0.285714</td>\n",
       "    </tr>\n",
       "    <tr>\n",
       "      <th>3</th>\n",
       "      <td>Neutral</td>\n",
       "      <td>Bonne nuit</td>\n",
       "      <td>0.000000</td>\n",
       "    </tr>\n",
       "    <tr>\n",
       "      <th>4</th>\n",
       "      <td>Positive</td>\n",
       "      <td>RT A10 USA Bin laden is just a sample Pakistan...</td>\n",
       "      <td>0.333333</td>\n",
       "    </tr>\n",
       "    <tr>\n",
       "      <th>5</th>\n",
       "      <td>Neutral</td>\n",
       "      <td>EXCLUSIVE Image shows al Qaeda s Hamza bin Lad...</td>\n",
       "      <td>0.000000</td>\n",
       "    </tr>\n",
       "    <tr>\n",
       "      <th>6</th>\n",
       "      <td>Neutral</td>\n",
       "      <td>Kurdish NATO s agenda in Afghanistan was Russi...</td>\n",
       "      <td>0.000000</td>\n",
       "    </tr>\n",
       "    <tr>\n",
       "      <th>7</th>\n",
       "      <td>Neutral</td>\n",
       "      <td>RT Trump and MAGA loonies triggered that PRESI...</td>\n",
       "      <td>0.000000</td>\n",
       "    </tr>\n",
       "    <tr>\n",
       "      <th>8</th>\n",
       "      <td>Negative</td>\n",
       "      <td>Feeling heavy Burdened Heavy laden Let Jesus b...</td>\n",
       "      <td>-0.120000</td>\n",
       "    </tr>\n",
       "    <tr>\n",
       "      <th>9</th>\n",
       "      <td>Neutral</td>\n",
       "      <td>Charlie Charlie die alte hat mir alles abverka...</td>\n",
       "      <td>0.000000</td>\n",
       "    </tr>\n",
       "    <tr>\n",
       "      <th>10</th>\n",
       "      <td>Neutral</td>\n",
       "      <td>RT a marche que pour les amis d enfance je pense</td>\n",
       "      <td>0.000000</td>\n",
       "    </tr>\n",
       "    <tr>\n",
       "      <th>11</th>\n",
       "      <td>Neutral</td>\n",
       "      <td>RT Bref pour conclure avec a et ceux et celles...</td>\n",
       "      <td>0.000000</td>\n",
       "    </tr>\n",
       "    <tr>\n",
       "      <th>12</th>\n",
       "      <td>Neutral</td>\n",
       "      <td>RT Du coup moi je sais que si demain quelque c...</td>\n",
       "      <td>0.000000</td>\n",
       "    </tr>\n",
       "    <tr>\n",
       "      <th>13</th>\n",
       "      <td>Neutral</td>\n",
       "      <td>RT HD Die gr te Oppositionspa ei AfD wird wied...</td>\n",
       "      <td>0.000000</td>\n",
       "    </tr>\n",
       "    <tr>\n",
       "      <th>14</th>\n",
       "      <td>Neutral</td>\n",
       "      <td>derjasper Ich halte es nicht f r ein so gro es...</td>\n",
       "      <td>0.000000</td>\n",
       "    </tr>\n",
       "  </tbody>\n",
       "</table>\n",
       "</div>"
      ],
      "text/plain": [
       "   Sentiment                                              Tweet    visual\n",
       "0   Positive  Sure Like the Russian hacking proof like proof...  0.250000\n",
       "1   Negative  RT Common PMS symptoms that can occur a week b... -0.141667\n",
       "2   Positive  RT Where was Bin Laden hiding out again Oh tha...  0.285714\n",
       "3    Neutral                                         Bonne nuit  0.000000\n",
       "4   Positive  RT A10 USA Bin laden is just a sample Pakistan...  0.333333\n",
       "5    Neutral  EXCLUSIVE Image shows al Qaeda s Hamza bin Lad...  0.000000\n",
       "6    Neutral  Kurdish NATO s agenda in Afghanistan was Russi...  0.000000\n",
       "7    Neutral  RT Trump and MAGA loonies triggered that PRESI...  0.000000\n",
       "8   Negative  Feeling heavy Burdened Heavy laden Let Jesus b... -0.120000\n",
       "9    Neutral  Charlie Charlie die alte hat mir alles abverka...  0.000000\n",
       "10   Neutral   RT a marche que pour les amis d enfance je pense  0.000000\n",
       "11   Neutral  RT Bref pour conclure avec a et ceux et celles...  0.000000\n",
       "12   Neutral  RT Du coup moi je sais que si demain quelque c...  0.000000\n",
       "13   Neutral  RT HD Die gr te Oppositionspa ei AfD wird wied...  0.000000\n",
       "14   Neutral  derjasper Ich halte es nicht f r ein so gro es...  0.000000"
      ]
     },
     "execution_count": 112,
     "metadata": {},
     "output_type": "execute_result"
    }
   ],
   "source": [
    "df=pd.DataFrame(data)\n",
    "df"
   ]
  },
  {
   "cell_type": "code",
   "execution_count": 113,
   "metadata": {},
   "outputs": [],
   "source": [
    "df.to_csv('analysis1.csv')"
   ]
  },
  {
   "cell_type": "code",
   "execution_count": 114,
   "metadata": {},
   "outputs": [
    {
     "data": {
      "text/plain": [
       "1    RT Common PMS symptoms that can occur a week b...\n",
       "8    Feeling heavy Burdened Heavy laden Let Jesus b...\n",
       "Name: Tweet, dtype: object"
      ]
     },
     "execution_count": 114,
     "metadata": {},
     "output_type": "execute_result"
    }
   ],
   "source": [
    "df[df['visual']<0.0]['Tweet']"
   ]
  },
  {
   "cell_type": "code",
   "execution_count": null,
   "metadata": {
    "collapsed": true
   },
   "outputs": [],
   "source": []
  },
  {
   "cell_type": "code",
   "execution_count": null,
   "metadata": {
    "collapsed": true
   },
   "outputs": [],
   "source": []
  }
 ],
 "metadata": {
  "kernelspec": {
   "display_name": "Python 3",
   "language": "python",
   "name": "python3"
  },
  "language_info": {
   "codemirror_mode": {
    "name": "ipython",
    "version": 3
   },
   "file_extension": ".py",
   "mimetype": "text/x-python",
   "name": "python",
   "nbconvert_exporter": "python",
   "pygments_lexer": "ipython3",
   "version": "3.6.3"
  }
 },
 "nbformat": 4,
 "nbformat_minor": 2
}
