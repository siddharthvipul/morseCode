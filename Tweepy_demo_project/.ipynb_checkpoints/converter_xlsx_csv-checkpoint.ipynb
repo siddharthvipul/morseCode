{
 "cells": [
  {
   "cell_type": "code",
   "execution_count": 42,
   "metadata": {},
   "outputs": [
    {
     "data": {
      "text/plain": [
       "'\\nEnter xlsx name, sheet name, and your csv file name\\n'"
      ]
     },
     "execution_count": 42,
     "metadata": {},
     "output_type": "execute_result"
    }
   ],
   "source": [
    "import xlrd\n",
    "import csv\n",
    "'''\n",
    "Enter xlsx name, sheet name, and your csv file name\n",
    "'''"
   ]
  },
  {
   "cell_type": "code",
   "execution_count": 43,
   "metadata": {
    "collapsed": true
   },
   "outputs": [],
   "source": [
    "def converter(exName, shName='Sheet1', csvName='untitled'):\n",
    "    wb = xlrd.open_workbook(exName)\n",
    "    sh = wb.sheet_by_name(shName)\n",
    "    myCsv = open(csvName, 'w')\n",
    "    wr = csv.writer(myCsv, quoting=csv.QUOTE_ALL)\n",
    "    \n",
    "    for row in range(sh.nrows):\n",
    "        wr.writerow(sh.row_values(row))\n",
    "    myCsv.close()\n",
    "    "
   ]
  },
  {
   "cell_type": "code",
   "execution_count": 44,
   "metadata": {},
   "outputs": [],
   "source": [
    "#converter('feedback.xlsx', 'Form Responses 1', 'feedback.csv')"
   ]
  },
  {
   "cell_type": "code",
   "execution_count": null,
   "metadata": {
    "collapsed": true
   },
   "outputs": [],
   "source": []
  }
 ],
 "metadata": {
  "kernelspec": {
   "display_name": "Python 3",
   "language": "python",
   "name": "python3"
  },
  "language_info": {
   "codemirror_mode": {
    "name": "ipython",
    "version": 3
   },
   "file_extension": ".py",
   "mimetype": "text/x-python",
   "name": "python",
   "nbconvert_exporter": "python",
   "pygments_lexer": "ipython3",
   "version": "3.6.3"
  }
 },
 "nbformat": 4,
 "nbformat_minor": 2
}
