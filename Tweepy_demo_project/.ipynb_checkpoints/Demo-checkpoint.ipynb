{
 "cells": [
  {
   "cell_type": "markdown",
   "metadata": {},
   "source": [
    "# Project demo\n",
    "#### We are not using tensorflow here. For demo sake, textblob's analysis.sentiment is doing all the analysis work."
   ]
  },
  {
   "cell_type": "markdown",
   "metadata": {},
   "source": [
    "Step 1: Let's import the libraries"
   ]
  },
  {
   "cell_type": "code",
   "execution_count": 86,
   "metadata": {},
   "outputs": [],
   "source": [
    "import tweepy\n",
    "from textblob import TextBlob\n",
    "import csv\n",
    "import sys\n",
    "import pandas as pd\n",
    "import re"
   ]
  },
  {
   "cell_type": "markdown",
   "metadata": {},
   "source": [
    "Step 2: use twitter api to authenticate yourself using [consumer key, consumer secret key, access token key, access token secret key]. "
   ]
  },
  {
   "cell_type": "code",
   "execution_count": 87,
   "metadata": {
    "collapsed": true
   },
   "outputs": [],
   "source": [
    "consumer_key='BCu9wO91x5DTl31JJmJlKI72R'\n",
    "consumer_secret='a8OPBWL4AdqLJzSw7znvbf5CLtGYpk8y8wOLI445d0HiZZ1A8e'\n",
    "\n",
    "access_token_key='2192450400-IjS9RylezjKmnVWJzJnhK5BHLhPNwvEYU5j76OM'\n",
    "access_token_secret='gYSdcseX6PPjXStBWFmhLHwY994MCMvNK6pz2x70hdvaf'\n",
    "\n",
    "auth=tweepy.OAuthHandler(consumer_key,consumer_secret)\n",
    "auth.set_access_token(access_token_key,access_token_secret)\n",
    "\n",
    "api=tweepy.API(auth)"
   ]
  },
  {
   "cell_type": "code",
   "execution_count": 100,
   "metadata": {},
   "outputs": [],
   "source": [
    "topicname='india'\n",
    "pubic_tweets=api.search(topicname)\n",
    "#print (pubic_tweets)\n",
    "#unwanted_words=['@','RT',':','https','http']\n",
    "#symbols=['@','#']\n",
    "data=[]"
   ]
  },
  {
   "cell_type": "code",
   "execution_count": 101,
   "metadata": {},
   "outputs": [
    {
     "name": "stdout",
     "output_type": "stream",
     "text": [
      "Sentiment(polarity=0.25, subjectivity=0.8500000000000001)\n",
      "Sentiment(polarity=0.0, subjectivity=0.0)\n",
      "Sentiment(polarity=0.0, subjectivity=0.0)\n",
      "Sentiment(polarity=0.75, subjectivity=0.95)\n",
      "Sentiment(polarity=-0.1, subjectivity=0.2)\n",
      "Sentiment(polarity=0.0, subjectivity=0.0)\n",
      "Sentiment(polarity=0.0, subjectivity=0.25)\n",
      "Sentiment(polarity=0.0, subjectivity=0.0)\n",
      "Sentiment(polarity=0.0, subjectivity=0.5)\n",
      "Sentiment(polarity=0.0, subjectivity=0.125)\n",
      "Sentiment(polarity=-0.5, subjectivity=0.9)\n",
      "Sentiment(polarity=0.5, subjectivity=0.5)\n",
      "Sentiment(polarity=0.0, subjectivity=0.0)\n",
      "Sentiment(polarity=0.0, subjectivity=0.0)\n",
      "Sentiment(polarity=0.0, subjectivity=0.0)\n"
     ]
    }
   ],
   "source": [
    "for tweet in pubic_tweets:\n",
    "    text=tweet.text\n",
    "    textWords=text.split()\n",
    "   # print (textWords)\n",
    "   # print ('\\n\\n')\n",
    "    cleanedTweet=' '.join(re.sub(\"(@[A-Za-z0-9]+)|([^0-9A-Za-z \\t])|(\\w+:\\/\\/\\S+)|(RT)\", \" \", text).split())\n",
    "    #print (cleanedTweet)\n",
    "    #print (TextBlob(cleanedTweet).tags)\n",
    "    analysis= TextBlob(cleanedTweet)\n",
    "    print (analysis.sentiment)\n",
    "    polarity = 'Positive'\n",
    "    if(analysis.sentiment.polarity < -0.2):\n",
    "        polarity = 'Negative'\n",
    "    if(0<=analysis.sentiment.polarity <=0.3):\n",
    "        polarity = 'Neutral'\n",
    "    #print (polarity)\n",
    "    dic={}\n",
    "    dic['Sentiment']=polarity\n",
    "    dic['Tweet']=cleanedTweet\n",
    "    data.append(dic)"
   ]
  },
  {
   "cell_type": "code",
   "execution_count": 102,
   "metadata": {},
   "outputs": [
    {
     "data": {
      "text/html": [
       "<div>\n",
       "<style>\n",
       "    .dataframe thead tr:only-child th {\n",
       "        text-align: right;\n",
       "    }\n",
       "\n",
       "    .dataframe thead th {\n",
       "        text-align: left;\n",
       "    }\n",
       "\n",
       "    .dataframe tbody tr th {\n",
       "        vertical-align: top;\n",
       "    }\n",
       "</style>\n",
       "<table border=\"1\" class=\"dataframe\">\n",
       "  <thead>\n",
       "    <tr style=\"text-align: right;\">\n",
       "      <th></th>\n",
       "      <th>Sentiment</th>\n",
       "      <th>Tweet</th>\n",
       "    </tr>\n",
       "  </thead>\n",
       "  <tbody>\n",
       "    <tr>\n",
       "      <th>0</th>\n",
       "      <td>Neutral</td>\n",
       "      <td>abhilasha porn hot tub sex movie india</td>\n",
       "    </tr>\n",
       "    <tr>\n",
       "      <th>1</th>\n",
       "      <td>Neutral</td>\n",
       "      <td>d gr8 India</td>\n",
       "    </tr>\n",
       "    <tr>\n",
       "      <th>2</th>\n",
       "      <td>Neutral</td>\n",
       "      <td>Jet Airways grounds pilots after cockpit fight</td>\n",
       "    </tr>\n",
       "    <tr>\n",
       "      <th>3</th>\n",
       "      <td>Positive</td>\n",
       "      <td>Try to unite Hindus in India you are dubbed a ...</td>\n",
       "    </tr>\n",
       "    <tr>\n",
       "      <th>4</th>\n",
       "      <td>Positive</td>\n",
       "      <td>Brain Therapy India raises concerns around Chi...</td>\n",
       "    </tr>\n",
       "    <tr>\n",
       "      <th>5</th>\n",
       "      <td>Neutral</td>\n",
       "      <td></td>\n",
       "    </tr>\n",
       "    <tr>\n",
       "      <th>6</th>\n",
       "      <td>Neutral</td>\n",
       "      <td>Hello biometricked citizens of India UIDAI s c...</td>\n",
       "    </tr>\n",
       "    <tr>\n",
       "      <th>7</th>\n",
       "      <td>Neutral</td>\n",
       "      <td>Body language expert gives her opinion on what...</td>\n",
       "    </tr>\n",
       "    <tr>\n",
       "      <th>8</th>\n",
       "      <td>Neutral</td>\n",
       "      <td>Can we have such type of things in India</td>\n",
       "    </tr>\n",
       "    <tr>\n",
       "      <th>9</th>\n",
       "      <td>Neutral</td>\n",
       "      <td>Presence India I faced the same from Airtel a</td>\n",
       "    </tr>\n",
       "    <tr>\n",
       "      <th>10</th>\n",
       "      <td>Negative</td>\n",
       "      <td>Triple Talaq Bill Wrong BJP Playing Divisive P...</td>\n",
       "    </tr>\n",
       "    <tr>\n",
       "      <th>11</th>\n",
       "      <td>Positive</td>\n",
       "      <td>Ormax Characters India Loves Top 5 Bigg Boss c...</td>\n",
       "    </tr>\n",
       "    <tr>\n",
       "      <th>12</th>\n",
       "      <td>Neutral</td>\n",
       "      <td>vi</td>\n",
       "    </tr>\n",
       "    <tr>\n",
       "      <th>13</th>\n",
       "      <td>Neutral</td>\n",
       "      <td>vi</td>\n",
       "    </tr>\n",
       "    <tr>\n",
       "      <th>14</th>\n",
       "      <td>Neutral</td>\n",
       "      <td>GOI announces launch of 7 75 Savings Taxable B...</td>\n",
       "    </tr>\n",
       "  </tbody>\n",
       "</table>\n",
       "</div>"
      ],
      "text/plain": [
       "   Sentiment                                              Tweet\n",
       "0    Neutral             abhilasha porn hot tub sex movie india\n",
       "1    Neutral                                        d gr8 India\n",
       "2    Neutral     Jet Airways grounds pilots after cockpit fight\n",
       "3   Positive  Try to unite Hindus in India you are dubbed a ...\n",
       "4   Positive  Brain Therapy India raises concerns around Chi...\n",
       "5    Neutral                                                   \n",
       "6    Neutral  Hello biometricked citizens of India UIDAI s c...\n",
       "7    Neutral  Body language expert gives her opinion on what...\n",
       "8    Neutral           Can we have such type of things in India\n",
       "9    Neutral      Presence India I faced the same from Airtel a\n",
       "10  Negative  Triple Talaq Bill Wrong BJP Playing Divisive P...\n",
       "11  Positive  Ormax Characters India Loves Top 5 Bigg Boss c...\n",
       "12   Neutral                                                 vi\n",
       "13   Neutral                                                 vi\n",
       "14   Neutral  GOI announces launch of 7 75 Savings Taxable B..."
      ]
     },
     "execution_count": 102,
     "metadata": {},
     "output_type": "execute_result"
    }
   ],
   "source": [
    "df=pd.DataFrame(data)\n",
    "df"
   ]
  },
  {
   "cell_type": "code",
   "execution_count": 99,
   "metadata": {
    "collapsed": true
   },
   "outputs": [],
   "source": [
    "df.to_csv('analysis1.csv')"
   ]
  },
  {
   "cell_type": "code",
   "execution_count": null,
   "metadata": {
    "collapsed": true
   },
   "outputs": [],
   "source": []
  },
  {
   "cell_type": "code",
   "execution_count": null,
   "metadata": {
    "collapsed": true
   },
   "outputs": [],
   "source": []
  }
 ],
 "metadata": {
  "kernelspec": {
   "display_name": "Python 3",
   "language": "python",
   "name": "python3"
  },
  "language_info": {
   "codemirror_mode": {
    "name": "ipython",
    "version": 3
   },
   "file_extension": ".py",
   "mimetype": "text/x-python",
   "name": "python",
   "nbconvert_exporter": "python",
   "pygments_lexer": "ipython3",
   "version": "3.6.3"
  }
 },
 "nbformat": 4,
 "nbformat_minor": 2
}
